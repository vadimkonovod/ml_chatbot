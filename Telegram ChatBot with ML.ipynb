{
 "cells": [
  {
   "cell_type": "markdown",
   "id": "a870103f",
   "metadata": {},
   "source": [
    "### Telegram ChatBot with ML"
   ]
  },
  {
   "cell_type": "code",
   "execution_count": null,
   "id": "d88e5874",
   "metadata": {},
   "outputs": [],
   "source": [
    "pip install python-telegram-bot --upgrade"
   ]
  },
  {
   "cell_type": "code",
   "execution_count": 223,
   "id": "8f18b1a8",
   "metadata": {},
   "outputs": [],
   "source": [
    "import random\n",
    "import nltk\n",
    "import json\n",
    "\n",
    "from sklearn.feature_extraction.text import CountVectorizer, TfidfVectorizer, HashingVectorizer\n",
    "from sklearn.feature_extraction import DictVectorizer\n",
    "from sklearn.linear_model import LogisticRegression, PassiveAggressiveClassifier, LogisticRegressionCV, Perceptron, RidgeClassifier, RidgeClassifierCV, SGDClassifier\n",
    "from sklearn.model_selection import train_test_split\n",
    "\n",
    "from nltk import word_tokenize          \n",
    "from nltk.stem import WordNetLemmatizer \n",
    "\n",
    "from sklearn.svm import SVC\n",
    "from sklearn.model_selection import GridSearchCV, KFold\n",
    "\n",
    "import logging\n",
    "from telegram import Update, ForceReply\n",
    "from telegram.ext import Updater, CommandHandler, MessageHandler, Filters, CallbackContext"
   ]
  },
  {
   "cell_type": "code",
   "execution_count": 5,
   "id": "022f31aa",
   "metadata": {},
   "outputs": [],
   "source": [
    "# BOT_CONFIG = {\n",
    "#     'intents': {\n",
    "#         'hello': {\n",
    "#             'examples': ['Хай', 'Конничива', 'Васап'],\n",
    "#             'responses': ['Привет', 'Добрый вечер']\n",
    "#         },\n",
    "#         'bye': {\n",
    "#             'examples': ['Пока', 'Увидимся!', 'Покеда'],\n",
    "#             'responses': ['До свидания', 'Прощайте', 'Сайонара!']\n",
    "#         }\n",
    "#     }\n",
    "# }\n",
    "\n",
    "with open('BOT_CONFIG.json', 'r') as f:\n",
    "    BOT_CONFIG = json.load(f)"
   ]
  },
  {
   "cell_type": "code",
   "execution_count": 3,
   "id": "de455fc6",
   "metadata": {},
   "outputs": [],
   "source": [
    "def clean(text):\n",
    "    text = text.lower()\n",
    "    cleaned_text = ''\n",
    "    for ch in text:\n",
    "        if ch in 'абвгдеёжзийклмнопрстуфхцчшщъыьэюя ':\n",
    "            cleaned_text += ch\n",
    "    \n",
    "    return cleaned_text\n",
    "\n",
    "def get_intent(text):\n",
    "    text = clean(text)\n",
    "    for intent in BOT_CONFIG['intents']:\n",
    "        try:\n",
    "            for example in BOT_CONFIG['intents'][intent]['examples']:\n",
    "                example = clean(example)\n",
    "                if nltk.edit_distance(example, text) / max(len(text), len(example)) < 0.4:\n",
    "                    return intent\n",
    "        \n",
    "        except:\n",
    "            pass\n",
    "    \n",
    "    return 'intent not found'"
   ]
  },
  {
   "cell_type": "code",
   "execution_count": 6,
   "id": "2eb822e4",
   "metadata": {},
   "outputs": [
    {
     "data": {
      "text/plain": [
       "(841, 841, 243)"
      ]
     },
     "execution_count": 6,
     "metadata": {},
     "output_type": "execute_result"
    }
   ],
   "source": [
    "X = []\n",
    "y = []\n",
    "\n",
    "for intent in BOT_CONFIG['intents']:\n",
    "    try:\n",
    "        for example in BOT_CONFIG['intents'][intent]['examples']:\n",
    "            X.append(example)\n",
    "            y.append(intent)\n",
    "    except:\n",
    "        pass\n",
    "\n",
    "len(X), len(y), len(set(y))"
   ]
  },
  {
   "cell_type": "code",
   "execution_count": 162,
   "id": "59d4d621",
   "metadata": {},
   "outputs": [
    {
     "data": {
      "text/plain": [
       "(672, 169, 672, 169)"
      ]
     },
     "execution_count": 162,
     "metadata": {},
     "output_type": "execute_result"
    }
   ],
   "source": [
    "X_train, X_test, y_train, y_test = train_test_split(X, y, test_size=0.2, random_state=42)\n",
    "\n",
    "len(X_train), len(X_test), len(y_train), len(y_test)"
   ]
  },
  {
   "cell_type": "code",
   "execution_count": 235,
   "id": "7d6fa696",
   "metadata": {},
   "outputs": [
    {
     "data": {
      "text/plain": [
       "2274"
      ]
     },
     "execution_count": 235,
     "metadata": {},
     "output_type": "execute_result"
    }
   ],
   "source": [
    "vectorizer = TfidfVectorizer(preprocessor=clean, analyzer='char_wb', ngram_range=(2,3))\n",
    "X_train_vect = vectorizer.fit_transform(X_train)\n",
    "X_test_vect = vectorizer.transform(X_test)\n",
    "len(vectorizer.get_feature_names())\n",
    "\n",
    "# поиграться с векторайзерами"
   ]
  },
  {
   "cell_type": "code",
   "execution_count": 193,
   "id": "2d1ea837",
   "metadata": {},
   "outputs": [
    {
     "name": "stdout",
     "output_type": "stream",
     "text": [
      "train 0.7291666666666666\n",
      "test 0.27218934911242604\n"
     ]
    }
   ],
   "source": [
    "model = LogisticRegression(C=1, class_weight='balanced')\n",
    "#model = SVC(C=1000, random_state=241, kernel='linear')\n",
    "\n",
    "# чем больше C – чем сильнее модель МО зубрит ответы\n",
    "model.fit(X_train_vect, y_train)\n",
    "\n",
    "print(f'train {model.score(X_train_vect, y_train)}')\n",
    "print(f'test {model.score(X_test_vect, y_test)}')\n",
    "\n",
    "# поиграться с моделями"
   ]
  },
  {
   "cell_type": "code",
   "execution_count": 228,
   "id": "42245a0e",
   "metadata": {},
   "outputs": [
    {
     "data": {
      "text/plain": [
       "(SVC(C=100.0, kernel='linear', random_state=241),\n",
       " 0.15322277501381978,\n",
       " {'C': 100.0})"
      ]
     },
     "execution_count": 228,
     "metadata": {},
     "output_type": "execute_result"
    }
   ],
   "source": [
    "# just playing with grid search\n",
    "\n",
    "grid = {'C': np.power(10.0, np.arange(-5, 6))}\n",
    "cv = KFold(n_splits=5, shuffle=True, random_state=241)\n",
    "clf = SVC(kernel='linear', random_state=241)\n",
    "gs = GridSearchCV(clf, grid, scoring='accuracy', cv=cv)\n",
    "gs.fit(X_train_vect, y_train)\n",
    "\n",
    "gs.best_estimator_, gs.best_score_, gs.best_params_"
   ]
  },
  {
   "cell_type": "code",
   "execution_count": 263,
   "id": "10a7505a",
   "metadata": {},
   "outputs": [
    {
     "data": {
      "text/plain": [
       "1.916290731874155"
      ]
     },
     "execution_count": 263,
     "metadata": {},
     "output_type": "execute_result"
    }
   ],
   "source": [
    "# just playing with tf \\ idf calculation\n",
    "\n",
    "corpus = [\n",
    "    'This is the first document.',\n",
    "     'This document is the second document.',\n",
    "     'And this is the third one.',\n",
    "     'Is this the first document?',\n",
    " ]\n",
    "vectorizer = TfidfVectorizer()\n",
    "X = vectorizer.fit_transform(corpus)\n",
    "vectorizer.get_feature_names(), vectorizer.vocabulary_, vectorizer.idf_\n",
    "\n",
    "np.log(5/2) + 1 # idf = ln(N + 1 / df + 1) + 1"
   ]
  },
  {
   "cell_type": "code",
   "execution_count": 156,
   "id": "c4288bf1",
   "metadata": {},
   "outputs": [],
   "source": [
    "# поискать норм дата-сет для чат бота\n",
    "\n",
    "def get_intent_by_model(text):\n",
    "    return model.predict(vectorizer.transform([text]))[0]"
   ]
  },
  {
   "cell_type": "code",
   "execution_count": 11,
   "id": "55b018b7",
   "metadata": {},
   "outputs": [],
   "source": [
    "def bot(question):\n",
    "    intent = get_intent_by_model(question)\n",
    "    return random.choice(BOT_CONFIG['intents'][intent]['responses'])"
   ]
  },
  {
   "cell_type": "code",
   "execution_count": 73,
   "id": "1ded3328",
   "metadata": {},
   "outputs": [
    {
     "name": "stdout",
     "output_type": "stream",
     "text": [
      "стоп\n"
     ]
    }
   ],
   "source": [
    "question = ''\n",
    "while True:\n",
    "    question = input()\n",
    "    if question != 'стоп':\n",
    "        answer = bot(question)\n",
    "        print(answer)\n",
    "    else:\n",
    "        break"
   ]
  },
  {
   "cell_type": "code",
   "execution_count": 138,
   "id": "9b4e0f91",
   "metadata": {},
   "outputs": [],
   "source": [
    "# Enable logging\n",
    "logging.basicConfig(\n",
    "    format='%(asctime)s - %(name)s - %(levelname)s - %(message)s', level=logging.INFO\n",
    ")\n",
    "\n",
    "logger = logging.getLogger(__name__)\n",
    "\n",
    "\n",
    "# Define a few command handlers. These usually take the two arguments update and\n",
    "# context.\n",
    "def start(update: Update, context: CallbackContext) -> None:\n",
    "    \"\"\"Send a message when the command /start is issued.\"\"\"\n",
    "    user = update.effective_user\n",
    "    update.message.reply_markdown_v2(\n",
    "        fr'Hi {user.mention_markdown_v2()}\\!',\n",
    "        reply_markup=ForceReply(selective=True),\n",
    "    )\n",
    "\n",
    "\n",
    "def help_command(update: Update, context: CallbackContext) -> None:\n",
    "    \"\"\"Send a message when the command /help is issued.\"\"\"\n",
    "    update.message.reply_text('Help!')\n",
    "\n",
    "\n",
    "def answer(update: Update, context: CallbackContext) -> None:\n",
    "    \"\"\"Answer the user message.\"\"\"\n",
    "    question = update.message.text\n",
    "    try:\n",
    "      answer = bot(question)\n",
    "    except:\n",
    "      answer = 'Извините, что-то сломалось =('\n",
    "      \n",
    "    update.message.reply_text(answer)\n",
    "\n",
    "\n",
    "def main() -> None:\n",
    "    \"\"\"Start the bot.\"\"\"\n",
    "    updater = Updater(\"1971454798:AAHLLbwzKp8hXfHLNo_KHg23c7420dsbstc\")\n",
    "\n",
    "    # Get the dispatcher to register handlers\n",
    "    dispatcher = updater.dispatcher\n",
    "\n",
    "    dispatcher.add_handler(CommandHandler(\"start\", start))\n",
    "    dispatcher.add_handler(CommandHandler(\"help\", help_command))\n",
    "\n",
    "    # on non command i.e message - answer the message on Telegram\n",
    "    dispatcher.add_handler(MessageHandler(Filters.text & ~Filters.command, answer))\n",
    "\n",
    "    updater.start_polling()\n",
    "\n",
    "    # Run the bot until you press Ctrl-C or the process receives SIGINT,\n",
    "    # SIGTERM or SIGABRT. This should be used most of the time, since\n",
    "    # start_polling() is non-blocking and will stop the bot gracefully.\n",
    "    updater.idle()"
   ]
  }
 ],
 "metadata": {
  "kernelspec": {
   "display_name": "Python 3",
   "language": "python",
   "name": "python3"
  },
  "language_info": {
   "codemirror_mode": {
    "name": "ipython",
    "version": 3
   },
   "file_extension": ".py",
   "mimetype": "text/x-python",
   "name": "python",
   "nbconvert_exporter": "python",
   "pygments_lexer": "ipython3",
   "version": "3.8.8"
  }
 },
 "nbformat": 4,
 "nbformat_minor": 5
}
